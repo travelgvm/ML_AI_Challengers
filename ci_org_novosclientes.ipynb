{
 "cells": [
  {
   "cell_type": "markdown",
   "id": "f6252dda-5b1f-4656-9c0f-e3984afd949d",
   "metadata": {},
   "source": [
    "# Libraries"
   ]
  },
  {
   "cell_type": "code",
   "execution_count": null,
   "id": "5603a35b-f333-455b-bc32-b86d3f8a14cf",
   "metadata": {},
   "outputs": [],
   "source": [
    "import numpy as np\n",
    "import pandas as pd\n",
    "import matplotlib.pyplot as plt\n",
    "from sklearn.model_selection import train_test_split\n",
    "from sklearn.linear_model import LogisticRegression\n",
    "from sklearn.metrics import roc_auc_score, roc_curve, auc\n",
    "from sklearn.calibration import calibration_curve\n",
    "from sklearn.feature_selection import mutual_info_classif\n",
    "from sklearn.preprocessing import LabelEncoder\n",
    "from sklearn.feature_selection import chi2\n",
    "from sklearn.preprocessing import MinMaxScaler\n",
    "\n",
    "import xgboost as xgb\n",
    "from scipy import stats\n",
    "\n",
    "import warnings\n",
    "warnings.filterwarnings(\"ignore\")\n",
    "\n",
    "from obiwan import *\n",
    "\n",
    "pd.set_option('display.max_columns', None)"
   ]
  },
  {
   "cell_type": "markdown",
   "id": "bbf2725a-dda7-45bc-a6e2-81ee0dc211e9",
   "metadata": {
    "jp-MarkdownHeadingCollapsed": true
   },
   "source": [
    "# Functions"
   ]
  },
  {
   "cell_type": "code",
   "execution_count": null,
   "id": "3469fecb-c42f-43d5-b999-8904e3b0a0cf",
   "metadata": {},
   "outputs": [],
   "source": [
    "# Calcular PowerStat (Kolmogorov-Smirnov Statistic)\n",
    "def calculate_power_stat(y_true, y_pred_proba):\n",
    "    fpr, tpr, thresholds = roc_curve(y_true, y_pred_proba)\n",
    "    ks_statistic = max(tpr - fpr)\n",
    "    return ks_statistic * 100\n",
    "\n",
    "# Avaliar o poder discriminatório por variável\n",
    "def power_stat_by_feature(X, y, model):\n",
    "    feature_power_stats = {}\n",
    "    for feature in X.columns:\n",
    "        X_feature = X[[feature]]\n",
    "        model.fit(X_feature, y)\n",
    "        y_pred_proba = model.predict_proba(X_feature)[:, 1]\n",
    "        power_stat = calculate_power_stat(y, y_pred_proba)\n",
    "        feature_power_stats[feature] = \"{:.2f}\".format(power_stat)\n",
    "\n",
    "    return feature_power_stats\n",
    "\n",
    "\n",
    "# Teste de Calibração Visual\n",
    "def plot_calibration_curve(y_true, y_pred_proba, n_bins=10):\n",
    "    prob_true, prob_pred = calibration_curve(y_true, y_pred_proba, n_bins=n_bins)\n",
    "    plt.plot(prob_pred, prob_true, marker='o')\n",
    "    plt.plot([0, 1], [0, 1], linestyle='--', color='gray')\n",
    "    plt.xlabel('Predicted probability')\n",
    "    plt.ylabel('True probability')\n",
    "    plt.title('Calibration Curve')\n",
    "    plt.show()\n",
    "\n",
    "def jeffreys_test(y_true, y_pred_proba, threshold=0.5):\n",
    "    pred = (y_pred_proba >= threshold).astype(int)\n",
    "    confusion_matrix = pd.crosstab(y_true, pred)\n",
    "    test_statistic, p_value = stats.chi2_contingency(confusion_matrix)[:2]\n",
    "    return p_value\n",
    "\n",
    "\n",
    "# Teste de Grau de Escala (exemplo: comparando predições acima/abaixo de 0.5)\n",
    "def scale_test(y_true, y_pred_proba, threshold=0.5):\n",
    "    groups = y_pred_proba > threshold\n",
    "    group_means = [np.mean(y_pred_proba[groups == g]) for g in np.unique(groups)]\n",
    "    return np.std(group_means)\n",
    "\n",
    "\n",
    "# Índice de Estabilidade de População (PSI)\n",
    "def calculate_psi(expected, actual, buckettype='bins', buckets=10):\n",
    "    def scale_range (input, min, max):\n",
    "        input += -(np.min(input))\n",
    "        input /= np.max(input) / (max - min)\n",
    "        input += min\n",
    "        return input\n",
    "    \n",
    "    breakpoints = np.linspace(0, 1, buckets + 1)\n",
    "\n",
    "    expected_percents = np.histogram(expected, bins=breakpoints)[0] / len(expected)\n",
    "    actual_percents = np.histogram(actual, bins=breakpoints)[0] / len(actual)\n",
    "    \n",
    "    psi_value = np.sum((actual_percents - expected_percents) * np.log(actual_percents / expected_percents))\n",
    "    return psi_value"
   ]
  },
  {
   "cell_type": "markdown",
   "id": "ffbc82c2-5366-4d33-b8fc-45364c41f011",
   "metadata": {},
   "source": [
    "# Load data"
   ]
  },
  {
   "cell_type": "code",
   "execution_count": 1,
   "id": "47718fab-0fd6-4e20-b761-b89f1a4dff7e",
   "metadata": {},
   "outputs": [
    {
     "ename": "NameError",
     "evalue": "name 'pd' is not defined",
     "output_type": "error",
     "traceback": [
      "\u001b[1;31m---------------------------------------------------------------------------\u001b[0m",
      "\u001b[1;31mNameError\u001b[0m                                 Traceback (most recent call last)",
      "Cell \u001b[1;32mIn[1], line 1\u001b[0m\n\u001b[1;32m----> 1\u001b[0m df \u001b[38;5;241m=\u001b[39m \u001b[43mpd\u001b[49m\u001b[38;5;241m.\u001b[39mread_csv(\u001b[38;5;124m'\u001b[39m\u001b[38;5;124m_T1_AMOSTRA_CI.csv\u001b[39m\u001b[38;5;124m'\u001b[39m, sep\u001b[38;5;241m=\u001b[39m\u001b[38;5;124m'\u001b[39m\u001b[38;5;124m;\u001b[39m\u001b[38;5;124m'\u001b[39m)\n\u001b[0;32m      3\u001b[0m df[\u001b[38;5;124m'\u001b[39m\u001b[38;5;124mDTREF\u001b[39m\u001b[38;5;124m'\u001b[39m] \u001b[38;5;241m=\u001b[39m pd\u001b[38;5;241m.\u001b[39mto_datetime(df[\u001b[38;5;124m'\u001b[39m\u001b[38;5;124mDTREF\u001b[39m\u001b[38;5;124m'\u001b[39m])\n\u001b[0;32m      5\u001b[0m target \u001b[38;5;241m=\u001b[39m \u001b[38;5;124m\"\u001b[39m\u001b[38;5;124mDEF_12\u001b[39m\u001b[38;5;124m\"\u001b[39m\n",
      "\u001b[1;31mNameError\u001b[0m: name 'pd' is not defined"
     ]
    }
   ],
   "source": [
    "df = pd.read_csv('_T1_AMOSTRA_CI.csv', sep=';')\n",
    "\n",
    "df['DTREF'] = pd.to_datetime(df['DTREF'])\n",
    "\n",
    "target = \"DEF_12\""
   ]
  },
  {
   "cell_type": "code",
   "execution_count": null,
   "id": "0f91efcc-98e9-4319-8a0b-6ad816a9a162",
   "metadata": {},
   "outputs": [],
   "source": [
    "df.head(5)"
   ]
  },
  {
   "cell_type": "markdown",
   "id": "9c8a80c0-a1d6-4d54-8eb6-360e14abdc23",
   "metadata": {},
   "source": [
    "# Model"
   ]
  },
  {
   "cell_type": "code",
   "execution_count": null,
   "id": "86680190-2a6c-4861-a16a-085dd84fe8ac",
   "metadata": {},
   "outputs": [],
   "source": [
    "cols1 = [\"DTREF\",\n",
    "     \"SCR_MARITAL_STATUS\", \"SCR_AGE\", \"SCR_LEVEL_STUDIES_AGE\", \"SCR_HABIT\", \"SCR_TYPE_CONTR\", \"SCR_PROFFESION\",\n",
    "     \"SCR_OP_CRED_POS\",\t\"SCR_SDO3M_PREST_POS\", \"SCR_REC_PRZ\", \"SCR_ANT\", \"SCR_NUM_DEB\", \"SLDULTRESM\", \"VALPREST\",\n",
    "     \"SCR_DIAS_SLD_DEV\", target\n",
    "            ]\n",
    "\n",
    "df1 = df[cols1].dropna()\n",
    "\n",
    "df1['SaldoDO3M/Prest'] = df1[\"SLDULTRESM\"] / df1[\"VALPREST\"]\n",
    "\n",
    "df1 = df1.drop(columns=[\"SLDULTRESM\", \"VALPREST\"])"
   ]
  },
  {
   "cell_type": "code",
   "execution_count": null,
   "id": "7d4ede22-9136-42ab-8393-00249886dd6a",
   "metadata": {},
   "outputs": [],
   "source": [
    "df_train = df1[df1['DTREF'] <= '2021-12-31'] # ensino o modelo a prever\n",
    "df_test = df1[df1['DTREF'] > '2021-12-31'] # testar se ele aprendeu bem\n",
    "\n",
    "X_train = df_train.drop(columns=['DTREF', target])\n",
    "y_train = df_train[target]\n",
    "\n",
    "X_test = df_test.drop(columns=['DTREF', target])\n",
    "y_test = df_test[target]\n",
    "\n",
    "from imblearn.over_sampling import SMOTE\n",
    "\n",
    "smote = SMOTE(sampling_strategy=0.5, random_state=42)\n",
    "X_train_smote, y_train_smote = smote.fit_resample(X_train, y_train)\n",
    "\n",
    "print(f'Antes do SMOTE: {y_train.value_counts()}')\n",
    "print(f'Depois do SMOTE: {y_train_smote.value_counts()}')"
   ]
  },
  {
   "cell_type": "code",
   "execution_count": null,
   "id": "3a8f96f5-31fc-445b-bfec-f0002c87c631",
   "metadata": {},
   "outputs": [],
   "source": [
    "X_train"
   ]
  },
  {
   "cell_type": "code",
   "execution_count": null,
   "id": "27589d4d-7f89-43c7-a038-563d2db072cf",
   "metadata": {},
   "outputs": [],
   "source": []
  },
  {
   "cell_type": "code",
   "execution_count": null,
   "id": "729c82ec-d20a-4b93-8d6c-cbbf320cb6b0",
   "metadata": {},
   "outputs": [],
   "source": []
  },
  {
   "cell_type": "code",
   "execution_count": null,
   "id": "a8294592-bbd4-4e88-8663-2e4cd5e02ca2",
   "metadata": {},
   "outputs": [],
   "source": []
  },
  {
   "cell_type": "code",
   "execution_count": null,
   "id": "f2afa78c-3b3b-457c-ad68-b415c5dc2f2f",
   "metadata": {},
   "outputs": [],
   "source": []
  },
  {
   "cell_type": "code",
   "execution_count": null,
   "id": "88a0a922-7b11-42b2-bfda-ce1e00e1e336",
   "metadata": {},
   "outputs": [],
   "source": []
  },
  {
   "cell_type": "code",
   "execution_count": null,
   "id": "a446a087-85dd-40d7-9a17-0b2d0f5b7069",
   "metadata": {},
   "outputs": [],
   "source": []
  },
  {
   "cell_type": "code",
   "execution_count": null,
   "id": "30b7dff1-a865-4565-a4b9-0d36d27e0022",
   "metadata": {},
   "outputs": [],
   "source": []
  },
  {
   "cell_type": "code",
   "execution_count": null,
   "id": "1289a89c-0f1a-498d-b6d3-4d582e8e1e82",
   "metadata": {},
   "outputs": [],
   "source": []
  },
  {
   "cell_type": "code",
   "execution_count": null,
   "id": "21bc7528-a42c-4b75-bc69-30016deef5f1",
   "metadata": {},
   "outputs": [],
   "source": []
  },
  {
   "cell_type": "code",
   "execution_count": null,
   "id": "daf25c51-9887-4f54-bad6-077418bed80f",
   "metadata": {},
   "outputs": [],
   "source": []
  },
  {
   "cell_type": "code",
   "execution_count": null,
   "id": "aab16e7d-762e-449d-8df6-e7cd81910ecf",
   "metadata": {},
   "outputs": [],
   "source": []
  },
  {
   "cell_type": "code",
   "execution_count": null,
   "id": "c5f8ff60-5fff-4a0d-815a-3552854dfb08",
   "metadata": {},
   "outputs": [],
   "source": []
  },
  {
   "cell_type": "code",
   "execution_count": null,
   "id": "31c4cba6-3689-4910-830a-ee2678ad35b4",
   "metadata": {},
   "outputs": [],
   "source": []
  },
  {
   "cell_type": "code",
   "execution_count": null,
   "id": "99f670f5-f308-42e4-b14e-7f506fd476cd",
   "metadata": {},
   "outputs": [],
   "source": []
  }
 ],
 "metadata": {
  "kernelspec": {
   "display_name": "Python 3 (ipykernel)",
   "language": "python",
   "name": "python3"
  },
  "language_info": {
   "codemirror_mode": {
    "name": "ipython",
    "version": 3
   },
   "file_extension": ".py",
   "mimetype": "text/x-python",
   "name": "python",
   "nbconvert_exporter": "python",
   "pygments_lexer": "ipython3",
   "version": "3.8.19"
  }
 },
 "nbformat": 4,
 "nbformat_minor": 5
}
